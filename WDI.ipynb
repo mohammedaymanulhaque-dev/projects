{
  "nbformat": 4,
  "nbformat_minor": 0,
  "metadata": {
    "colab": {
      "provenance": [],
      "authorship_tag": "ABX9TyN04cNsd6Yj+f4vXdzkz2WA",
      "include_colab_link": true
    },
    "kernelspec": {
      "name": "python3",
      "display_name": "Python 3"
    },
    "language_info": {
      "name": "python"
    }
  },
  "cells": [
    {
      "cell_type": "markdown",
      "metadata": {
        "id": "view-in-github",
        "colab_type": "text"
      },
      "source": [
        "<a href=\"https://colab.research.google.com/github/mohammedaymanulhaque-dev/projects/blob/main/WDI.ipynb\" target=\"_parent\"><img src=\"https://colab.research.google.com/assets/colab-badge.svg\" alt=\"Open In Colab\"/></a>"
      ]
    },
    {
      "cell_type": "markdown",
      "source": [
        "**World Development Indicators Dataset**\n",
        "**DATA:**\n",
        "\n",
        "**CountryName**: Full name of the country (e.g., India, United States, Brazil).\n",
        "\n",
        "**CountryCode**: Standard 3-letter country code (e.g., IND, USA, BRA).\n",
        "\n",
        "**IndicatorName**: Name of the development measure (e.g., GDP per capita, Life expectancy, Literacy rate).\n",
        "\n",
        "**IndicatorCode**: Code assigned to the indicator (e.g., NY.GDP.PCAP.CD for GDP per capita).\n",
        "\n",
        "**Year**: Year of observation (e.g., 1990, 2005, 2020).\n",
        "\n",
        "**Value**: The numeric value of the indicator for that country and year (e.g., GDP per capita = 2100 US$).\n",
        "\n",
        "**Population indicators:** population size, urbanization, growth rate.\n",
        "\n",
        "**Education indicators :** literacy rate, enrollment ratio, education spending.\n",
        "\n",
        "**Health indicators :** life expectancy, infant mortality, healthcare access.\n",
        "\n",
        "\n"
      ],
      "metadata": {
        "id": "-riKjtt1_JTd"
      }
    },
    {
      "cell_type": "markdown",
      "source": [
        "***INSTALLATION OF KAGGLE AND WORLD DEVELOPMENT INDICATOR DATASET***"
      ],
      "metadata": {
        "id": "TMbG7zdWAQvl"
      }
    },
    {
      "cell_type": "code",
      "execution_count": null,
      "metadata": {
        "id": "TisrtFjv3s0X"
      },
      "outputs": [],
      "source": [
        "!pip install -q kaggle"
      ]
    },
    {
      "cell_type": "code",
      "source": [
        "from google.colab import files\n",
        "files.upload()"
      ],
      "metadata": {
        "colab": {
          "base_uri": "https://localhost:8080/",
          "height": 90
        },
        "id": "WSp6cwgS4Jr-",
        "outputId": "7ffebf1c-c918-4c2b-d0ab-8411e872ef6a"
      },
      "execution_count": null,
      "outputs": [
        {
          "output_type": "display_data",
          "data": {
            "text/plain": [
              "<IPython.core.display.HTML object>"
            ],
            "text/html": [
              "\n",
              "     <input type=\"file\" id=\"files-ac6b473b-3760-4155-a235-6b02dc2e3d25\" name=\"files[]\" multiple disabled\n",
              "        style=\"border:none\" />\n",
              "     <output id=\"result-ac6b473b-3760-4155-a235-6b02dc2e3d25\">\n",
              "      Upload widget is only available when the cell has been executed in the\n",
              "      current browser session. Please rerun this cell to enable.\n",
              "      </output>\n",
              "      <script>// Copyright 2017 Google LLC\n",
              "//\n",
              "// Licensed under the Apache License, Version 2.0 (the \"License\");\n",
              "// you may not use this file except in compliance with the License.\n",
              "// You may obtain a copy of the License at\n",
              "//\n",
              "//      http://www.apache.org/licenses/LICENSE-2.0\n",
              "//\n",
              "// Unless required by applicable law or agreed to in writing, software\n",
              "// distributed under the License is distributed on an \"AS IS\" BASIS,\n",
              "// WITHOUT WARRANTIES OR CONDITIONS OF ANY KIND, either express or implied.\n",
              "// See the License for the specific language governing permissions and\n",
              "// limitations under the License.\n",
              "\n",
              "/**\n",
              " * @fileoverview Helpers for google.colab Python module.\n",
              " */\n",
              "(function(scope) {\n",
              "function span(text, styleAttributes = {}) {\n",
              "  const element = document.createElement('span');\n",
              "  element.textContent = text;\n",
              "  for (const key of Object.keys(styleAttributes)) {\n",
              "    element.style[key] = styleAttributes[key];\n",
              "  }\n",
              "  return element;\n",
              "}\n",
              "\n",
              "// Max number of bytes which will be uploaded at a time.\n",
              "const MAX_PAYLOAD_SIZE = 100 * 1024;\n",
              "\n",
              "function _uploadFiles(inputId, outputId) {\n",
              "  const steps = uploadFilesStep(inputId, outputId);\n",
              "  const outputElement = document.getElementById(outputId);\n",
              "  // Cache steps on the outputElement to make it available for the next call\n",
              "  // to uploadFilesContinue from Python.\n",
              "  outputElement.steps = steps;\n",
              "\n",
              "  return _uploadFilesContinue(outputId);\n",
              "}\n",
              "\n",
              "// This is roughly an async generator (not supported in the browser yet),\n",
              "// where there are multiple asynchronous steps and the Python side is going\n",
              "// to poll for completion of each step.\n",
              "// This uses a Promise to block the python side on completion of each step,\n",
              "// then passes the result of the previous step as the input to the next step.\n",
              "function _uploadFilesContinue(outputId) {\n",
              "  const outputElement = document.getElementById(outputId);\n",
              "  const steps = outputElement.steps;\n",
              "\n",
              "  const next = steps.next(outputElement.lastPromiseValue);\n",
              "  return Promise.resolve(next.value.promise).then((value) => {\n",
              "    // Cache the last promise value to make it available to the next\n",
              "    // step of the generator.\n",
              "    outputElement.lastPromiseValue = value;\n",
              "    return next.value.response;\n",
              "  });\n",
              "}\n",
              "\n",
              "/**\n",
              " * Generator function which is called between each async step of the upload\n",
              " * process.\n",
              " * @param {string} inputId Element ID of the input file picker element.\n",
              " * @param {string} outputId Element ID of the output display.\n",
              " * @return {!Iterable<!Object>} Iterable of next steps.\n",
              " */\n",
              "function* uploadFilesStep(inputId, outputId) {\n",
              "  const inputElement = document.getElementById(inputId);\n",
              "  inputElement.disabled = false;\n",
              "\n",
              "  const outputElement = document.getElementById(outputId);\n",
              "  outputElement.innerHTML = '';\n",
              "\n",
              "  const pickedPromise = new Promise((resolve) => {\n",
              "    inputElement.addEventListener('change', (e) => {\n",
              "      resolve(e.target.files);\n",
              "    });\n",
              "  });\n",
              "\n",
              "  const cancel = document.createElement('button');\n",
              "  inputElement.parentElement.appendChild(cancel);\n",
              "  cancel.textContent = 'Cancel upload';\n",
              "  const cancelPromise = new Promise((resolve) => {\n",
              "    cancel.onclick = () => {\n",
              "      resolve(null);\n",
              "    };\n",
              "  });\n",
              "\n",
              "  // Wait for the user to pick the files.\n",
              "  const files = yield {\n",
              "    promise: Promise.race([pickedPromise, cancelPromise]),\n",
              "    response: {\n",
              "      action: 'starting',\n",
              "    }\n",
              "  };\n",
              "\n",
              "  cancel.remove();\n",
              "\n",
              "  // Disable the input element since further picks are not allowed.\n",
              "  inputElement.disabled = true;\n",
              "\n",
              "  if (!files) {\n",
              "    return {\n",
              "      response: {\n",
              "        action: 'complete',\n",
              "      }\n",
              "    };\n",
              "  }\n",
              "\n",
              "  for (const file of files) {\n",
              "    const li = document.createElement('li');\n",
              "    li.append(span(file.name, {fontWeight: 'bold'}));\n",
              "    li.append(span(\n",
              "        `(${file.type || 'n/a'}) - ${file.size} bytes, ` +\n",
              "        `last modified: ${\n",
              "            file.lastModifiedDate ? file.lastModifiedDate.toLocaleDateString() :\n",
              "                                    'n/a'} - `));\n",
              "    const percent = span('0% done');\n",
              "    li.appendChild(percent);\n",
              "\n",
              "    outputElement.appendChild(li);\n",
              "\n",
              "    const fileDataPromise = new Promise((resolve) => {\n",
              "      const reader = new FileReader();\n",
              "      reader.onload = (e) => {\n",
              "        resolve(e.target.result);\n",
              "      };\n",
              "      reader.readAsArrayBuffer(file);\n",
              "    });\n",
              "    // Wait for the data to be ready.\n",
              "    let fileData = yield {\n",
              "      promise: fileDataPromise,\n",
              "      response: {\n",
              "        action: 'continue',\n",
              "      }\n",
              "    };\n",
              "\n",
              "    // Use a chunked sending to avoid message size limits. See b/62115660.\n",
              "    let position = 0;\n",
              "    do {\n",
              "      const length = Math.min(fileData.byteLength - position, MAX_PAYLOAD_SIZE);\n",
              "      const chunk = new Uint8Array(fileData, position, length);\n",
              "      position += length;\n",
              "\n",
              "      const base64 = btoa(String.fromCharCode.apply(null, chunk));\n",
              "      yield {\n",
              "        response: {\n",
              "          action: 'append',\n",
              "          file: file.name,\n",
              "          data: base64,\n",
              "        },\n",
              "      };\n",
              "\n",
              "      let percentDone = fileData.byteLength === 0 ?\n",
              "          100 :\n",
              "          Math.round((position / fileData.byteLength) * 100);\n",
              "      percent.textContent = `${percentDone}% done`;\n",
              "\n",
              "    } while (position < fileData.byteLength);\n",
              "  }\n",
              "\n",
              "  // All done.\n",
              "  yield {\n",
              "    response: {\n",
              "      action: 'complete',\n",
              "    }\n",
              "  };\n",
              "}\n",
              "\n",
              "scope.google = scope.google || {};\n",
              "scope.google.colab = scope.google.colab || {};\n",
              "scope.google.colab._files = {\n",
              "  _uploadFiles,\n",
              "  _uploadFilesContinue,\n",
              "};\n",
              "})(self);\n",
              "</script> "
            ]
          },
          "metadata": {}
        },
        {
          "output_type": "stream",
          "name": "stdout",
          "text": [
            "Saving kaggle.json to kaggle.json\n"
          ]
        },
        {
          "output_type": "execute_result",
          "data": {
            "text/plain": [
              "{'kaggle.json': b'{\"username\":\"mohammedaymanulhaque\",\"key\":\"889a0131c3575597c83972695fdc5f76\"}'}"
            ]
          },
          "metadata": {},
          "execution_count": 2
        }
      ]
    },
    {
      "cell_type": "code",
      "source": [
        "! mkdir ~/.kaggle"
      ],
      "metadata": {
        "id": "u2yH4kOa4p9u"
      },
      "execution_count": null,
      "outputs": []
    },
    {
      "cell_type": "code",
      "source": [
        "! cp kaggle.json ~/.kaggle/"
      ],
      "metadata": {
        "id": "2OCpE8dO40Bk"
      },
      "execution_count": null,
      "outputs": []
    },
    {
      "cell_type": "code",
      "source": [
        "! chmod 600 ~/.kaggle/kaggle.json"
      ],
      "metadata": {
        "id": "kw5vFMV-4_WO"
      },
      "execution_count": null,
      "outputs": []
    },
    {
      "cell_type": "markdown",
      "source": [
        "**TO KNOW THE ALL TYPE OF DATA SET PRESENT IN KAGGLE**"
      ],
      "metadata": {
        "id": "T2HuKdooAkFF"
      }
    },
    {
      "cell_type": "code",
      "source": [
        "! kaggle datasets list"
      ],
      "metadata": {
        "colab": {
          "base_uri": "https://localhost:8080/"
        },
        "id": "PxsHBXP25N39",
        "outputId": "503c83c4-50ee-48b6-b53e-13720bb998de"
      },
      "execution_count": null,
      "outputs": [
        {
          "output_type": "stream",
          "name": "stdout",
          "text": [
            "ref                                                               title                                                   size  lastUpdated                 downloadCount  voteCount  usabilityRating  \n",
            "----------------------------------------------------------------  ------------------------------------------------  ----------  --------------------------  -------------  ---------  ---------------  \n",
            "yashdevladdha/uber-ride-analytics-dashboard                       Uber Data Analytics Dashboard                       17324552  2025-08-08 11:13:42.920000          48283       1069  1.0              \n",
            "mosapabdelghany/medical-insurance-cost-dataset                    Medical Insurance Cost Dataset                         16425  2025-08-24 11:54:36.533000           2871         72  1.0              \n",
            "zadafiyabhrami/global-crocodile-species-dataset                   Global Crocodile Species Dataset                       57473  2025-08-26 08:46:11.950000           2309         75  1.0              \n",
            "codebynadiia/gdp-per-country-20202025                             GDP per Country 2020–2025                               5677  2025-09-04 14:37:43.563000           1806         43  1.0              \n",
            "msnbehdani/mock-dataset-of-second-hand-car-sales                  Car Sales Dataset: Model, Features, and Pricing       501188  2025-08-20 17:47:58.207000           4084         67  1.0              \n",
            "snehabhat23/top-rated-movies                                      MOVIES DATASET (tmdb)                                1273623  2025-09-04 11:35:53.360000            918         23  1.0              \n",
            "eshummalik/bmw-sales-dataset                                      BMW_Sales_Dataset                                     853348  2025-09-05 08:28:34.630000           1819         45  1.0              \n",
            "zubairamuti/shopping-behaviours-dataset                           Shopping behaviours dataset                            72157  2025-08-29 14:56:21.637000           2006         38  1.0              \n",
            "mdsultanulislamovi/student-stress-monitoring-datasets             Student Stress Monitoring Datasets                     24336  2025-07-24 16:30:01.617000          26694        438  1.0              \n",
            "mirzayasirabdullah07/student-exam-scores-dataset                  Student Exam Scores dataset                             2430  2025-08-20 07:26:47.233000           2248         37  0.88235295       \n",
            "ikramshah512/amazon-products-sales-dataset-42k-items-2025         Amazon Products Sales Dataset 42K+ Items - 2025      8086390  2025-09-01 02:31:27.053000           2838         48  1.0              \n",
            "poushal02/student-academic-stress-real-world-dataset              Student Academic Stress Real World Dataset              2104  2025-08-20 07:49:12.590000           6491        132  1.0              \n",
            "mikeytracegod/lung-cancer-risk-dataset                            Lung-Cancer-Risk-Dataset                              888060  2025-08-23 10:04:14.550000           1489         27  1.0              \n",
            "imaadmahmood/global-finance-and-economic-indicators-dataset-2024  Financial Market Datasets 2024                          2795  2025-08-17 20:56:29.940000           1487         25  0.8235294        \n",
            "shivamshinde1904/weather-data2000-2023                            Weather Data(2000-2023)                             11285005  2025-09-08 08:40:00.557000            713         22  1.0              \n",
            "julianbloise/winners-formula-1-1950-to-2025                       Formula 1 Grand Prix Winners Dataset (1950–2025)       17788  2025-08-27 17:37:48.427000           1483         26  1.0              \n",
            "arnabnahaushna/imdb-top-250-movies-of-all-time                    IMDB - Top 250 Movies of All Time                      19974  2025-08-25 17:04:40.990000           1341         32  1.0              \n",
            "rohitgrewal/hr-data-mnc                                           HR Dataset (Multinational Company)                  69930946  2025-08-23 06:53:08.740000           2354         55  1.0              \n",
            "rohitgrewal/airlines-flights-data                                 Airlines Flights Data                                2440299  2025-07-29 09:16:00.463000          26639        451  1.0              \n",
            "ayushghawana/perfume-dataset                                      Perfume Dataset                                        10691  2025-09-02 18:02:08.533000           1270         30  1.0              \n"
          ]
        }
      ]
    },
    {
      "cell_type": "markdown",
      "source": [
        "**DOWNLOAD THE WORLD DEVELOPMENT INDICATORS DATASET FROM THERE**"
      ],
      "metadata": {
        "id": "mKozdarWAsjE"
      }
    },
    {
      "cell_type": "code",
      "source": [
        "import kagglehub\n",
        "\n",
        "# Download latest version\n",
        "path = kagglehub.dataset_download(\"kaggle/world-development-indicators\")\n",
        "\n",
        "print(\"Path to dataset files:\", path)"
      ],
      "metadata": {
        "colab": {
          "base_uri": "https://localhost:8080/"
        },
        "id": "AOtIaGKM8mw1",
        "outputId": "9431d452-d78c-4124-fe8c-0a70e226014b"
      },
      "execution_count": null,
      "outputs": [
        {
          "output_type": "stream",
          "name": "stdout",
          "text": [
            "Downloading from https://www.kaggle.com/api/v1/datasets/download/kaggle/world-development-indicators?dataset_version_number=2...\n"
          ]
        },
        {
          "output_type": "stream",
          "name": "stderr",
          "text": [
            "100%|██████████| 369M/369M [00:03<00:00, 119MB/s]"
          ]
        },
        {
          "output_type": "stream",
          "name": "stdout",
          "text": [
            "Extracting files...\n"
          ]
        },
        {
          "output_type": "stream",
          "name": "stderr",
          "text": [
            "\n"
          ]
        },
        {
          "output_type": "stream",
          "name": "stdout",
          "text": [
            "Path to dataset files: /root/.cache/kagglehub/datasets/kaggle/world-development-indicators/versions/2\n"
          ]
        }
      ]
    },
    {
      "cell_type": "markdown",
      "source": [
        "**IMPORT ALL REQUIRED LIBRARIES**"
      ],
      "metadata": {
        "id": "tqSxOxe2A9Q8"
      }
    },
    {
      "cell_type": "code",
      "source": [
        "import pandas as pd\n",
        "import numpy as np\n",
        "import matplotlib.pyplot as plt\n",
        "import seaborn as sns\n",
        "import os"
      ],
      "metadata": {
        "id": "I_JPNXTKBZVM"
      },
      "execution_count": null,
      "outputs": []
    },
    {
      "cell_type": "markdown",
      "source": [
        "here os means, which is a standard library module that provides a way to interact with the operating system."
      ],
      "metadata": {
        "id": "tz95YOVhWXZq"
      }
    },
    {
      "cell_type": "markdown",
      "source": [
        "**PATH**"
      ],
      "metadata": {
        "id": "J2GpAoMpDoi0"
      }
    },
    {
      "cell_type": "code",
      "source": [
        "import pandas as pd\n",
        "import os\n",
        "\n",
        "path = \"/root/.cache/kagglehub/datasets/kaggle/world-development-indicators/versions/2\"\n",
        "\n",
        "# Load main indicators dataset\n",
        "file_path = os.path.join(path, \"Indicators.csv\")\n",
        "df = pd.read_csv(file_path)\n",
        "\n",
        "print(df.shape)   # rows & columns\n",
        "print(df.head())  # first 5 rows\n",
        "\n",
        "\n",
        "\n"
      ],
      "metadata": {
        "colab": {
          "base_uri": "https://localhost:8080/"
        },
        "id": "7u75UKFN9NP0",
        "outputId": "5771d8ee-e640-457b-932c-812b0890c283"
      },
      "execution_count": null,
      "outputs": [
        {
          "output_type": "stream",
          "name": "stdout",
          "text": [
            "(5656458, 6)\n",
            "  CountryName CountryCode                                      IndicatorName  \\\n",
            "0  Arab World         ARB  Adolescent fertility rate (births per 1,000 wo...   \n",
            "1  Arab World         ARB  Age dependency ratio (% of working-age populat...   \n",
            "2  Arab World         ARB  Age dependency ratio, old (% of working-age po...   \n",
            "3  Arab World         ARB  Age dependency ratio, young (% of working-age ...   \n",
            "4  Arab World         ARB        Arms exports (SIPRI trend indicator values)   \n",
            "\n",
            "    IndicatorCode  Year         Value  \n",
            "0     SP.ADO.TFRT  1960  1.335609e+02  \n",
            "1     SP.POP.DPND  1960  8.779760e+01  \n",
            "2  SP.POP.DPND.OL  1960  6.634579e+00  \n",
            "3  SP.POP.DPND.YG  1960  8.102333e+01  \n",
            "4  MS.MIL.XPRT.KD  1960  3.000000e+06  \n"
          ]
        }
      ]
    },
    {
      "cell_type": "markdown",
      "source": [
        "**TO KNOW THE INFORMATION AND DESCRIBING THE DATASET**"
      ],
      "metadata": {
        "id": "9H3KvZZTDwtk"
      }
    },
    {
      "cell_type": "code",
      "source": [
        "df.info()\n",
        "df.describe()\n"
      ],
      "metadata": {
        "colab": {
          "base_uri": "https://localhost:8080/",
          "height": 526
        },
        "id": "wrrDa3xH9WrW",
        "outputId": "ba85861e-dc3a-4e1d-acca-fd17db01089e"
      },
      "execution_count": null,
      "outputs": [
        {
          "output_type": "stream",
          "name": "stdout",
          "text": [
            "<class 'pandas.core.frame.DataFrame'>\n",
            "RangeIndex: 5656458 entries, 0 to 5656457\n",
            "Data columns (total 6 columns):\n",
            " #   Column         Dtype  \n",
            "---  ------         -----  \n",
            " 0   CountryName    object \n",
            " 1   CountryCode    object \n",
            " 2   IndicatorName  object \n",
            " 3   IndicatorCode  object \n",
            " 4   Year           int64  \n",
            " 5   Value          float64\n",
            "dtypes: float64(1), int64(1), object(4)\n",
            "memory usage: 258.9+ MB\n"
          ]
        },
        {
          "output_type": "execute_result",
          "data": {
            "text/plain": [
              "               Year         Value\n",
              "count  5.656458e+06  5.656458e+06\n",
              "mean   1.994464e+03  1.070501e+12\n",
              "std    1.387895e+01  4.842469e+13\n",
              "min    1.960000e+03 -9.824821e+15\n",
              "25%    1.984000e+03  5.566242e+00\n",
              "50%    1.997000e+03  6.357450e+01\n",
              "75%    2.006000e+03  1.346722e+07\n",
              "max    2.015000e+03  1.103367e+16"
            ],
            "text/html": [
              "\n",
              "  <div id=\"df-09015813-f711-47af-b281-49f3ac1be785\" class=\"colab-df-container\">\n",
              "    <div>\n",
              "<style scoped>\n",
              "    .dataframe tbody tr th:only-of-type {\n",
              "        vertical-align: middle;\n",
              "    }\n",
              "\n",
              "    .dataframe tbody tr th {\n",
              "        vertical-align: top;\n",
              "    }\n",
              "\n",
              "    .dataframe thead th {\n",
              "        text-align: right;\n",
              "    }\n",
              "</style>\n",
              "<table border=\"1\" class=\"dataframe\">\n",
              "  <thead>\n",
              "    <tr style=\"text-align: right;\">\n",
              "      <th></th>\n",
              "      <th>Year</th>\n",
              "      <th>Value</th>\n",
              "    </tr>\n",
              "  </thead>\n",
              "  <tbody>\n",
              "    <tr>\n",
              "      <th>count</th>\n",
              "      <td>5.656458e+06</td>\n",
              "      <td>5.656458e+06</td>\n",
              "    </tr>\n",
              "    <tr>\n",
              "      <th>mean</th>\n",
              "      <td>1.994464e+03</td>\n",
              "      <td>1.070501e+12</td>\n",
              "    </tr>\n",
              "    <tr>\n",
              "      <th>std</th>\n",
              "      <td>1.387895e+01</td>\n",
              "      <td>4.842469e+13</td>\n",
              "    </tr>\n",
              "    <tr>\n",
              "      <th>min</th>\n",
              "      <td>1.960000e+03</td>\n",
              "      <td>-9.824821e+15</td>\n",
              "    </tr>\n",
              "    <tr>\n",
              "      <th>25%</th>\n",
              "      <td>1.984000e+03</td>\n",
              "      <td>5.566242e+00</td>\n",
              "    </tr>\n",
              "    <tr>\n",
              "      <th>50%</th>\n",
              "      <td>1.997000e+03</td>\n",
              "      <td>6.357450e+01</td>\n",
              "    </tr>\n",
              "    <tr>\n",
              "      <th>75%</th>\n",
              "      <td>2.006000e+03</td>\n",
              "      <td>1.346722e+07</td>\n",
              "    </tr>\n",
              "    <tr>\n",
              "      <th>max</th>\n",
              "      <td>2.015000e+03</td>\n",
              "      <td>1.103367e+16</td>\n",
              "    </tr>\n",
              "  </tbody>\n",
              "</table>\n",
              "</div>\n",
              "    <div class=\"colab-df-buttons\">\n",
              "\n",
              "  <div class=\"colab-df-container\">\n",
              "    <button class=\"colab-df-convert\" onclick=\"convertToInteractive('df-09015813-f711-47af-b281-49f3ac1be785')\"\n",
              "            title=\"Convert this dataframe to an interactive table.\"\n",
              "            style=\"display:none;\">\n",
              "\n",
              "  <svg xmlns=\"http://www.w3.org/2000/svg\" height=\"24px\" viewBox=\"0 -960 960 960\">\n",
              "    <path d=\"M120-120v-720h720v720H120Zm60-500h600v-160H180v160Zm220 220h160v-160H400v160Zm0 220h160v-160H400v160ZM180-400h160v-160H180v160Zm440 0h160v-160H620v160ZM180-180h160v-160H180v160Zm440 0h160v-160H620v160Z\"/>\n",
              "  </svg>\n",
              "    </button>\n",
              "\n",
              "  <style>\n",
              "    .colab-df-container {\n",
              "      display:flex;\n",
              "      gap: 12px;\n",
              "    }\n",
              "\n",
              "    .colab-df-convert {\n",
              "      background-color: #E8F0FE;\n",
              "      border: none;\n",
              "      border-radius: 50%;\n",
              "      cursor: pointer;\n",
              "      display: none;\n",
              "      fill: #1967D2;\n",
              "      height: 32px;\n",
              "      padding: 0 0 0 0;\n",
              "      width: 32px;\n",
              "    }\n",
              "\n",
              "    .colab-df-convert:hover {\n",
              "      background-color: #E2EBFA;\n",
              "      box-shadow: 0px 1px 2px rgba(60, 64, 67, 0.3), 0px 1px 3px 1px rgba(60, 64, 67, 0.15);\n",
              "      fill: #174EA6;\n",
              "    }\n",
              "\n",
              "    .colab-df-buttons div {\n",
              "      margin-bottom: 4px;\n",
              "    }\n",
              "\n",
              "    [theme=dark] .colab-df-convert {\n",
              "      background-color: #3B4455;\n",
              "      fill: #D2E3FC;\n",
              "    }\n",
              "\n",
              "    [theme=dark] .colab-df-convert:hover {\n",
              "      background-color: #434B5C;\n",
              "      box-shadow: 0px 1px 3px 1px rgba(0, 0, 0, 0.15);\n",
              "      filter: drop-shadow(0px 1px 2px rgba(0, 0, 0, 0.3));\n",
              "      fill: #FFFFFF;\n",
              "    }\n",
              "  </style>\n",
              "\n",
              "    <script>\n",
              "      const buttonEl =\n",
              "        document.querySelector('#df-09015813-f711-47af-b281-49f3ac1be785 button.colab-df-convert');\n",
              "      buttonEl.style.display =\n",
              "        google.colab.kernel.accessAllowed ? 'block' : 'none';\n",
              "\n",
              "      async function convertToInteractive(key) {\n",
              "        const element = document.querySelector('#df-09015813-f711-47af-b281-49f3ac1be785');\n",
              "        const dataTable =\n",
              "          await google.colab.kernel.invokeFunction('convertToInteractive',\n",
              "                                                    [key], {});\n",
              "        if (!dataTable) return;\n",
              "\n",
              "        const docLinkHtml = 'Like what you see? Visit the ' +\n",
              "          '<a target=\"_blank\" href=https://colab.research.google.com/notebooks/data_table.ipynb>data table notebook</a>'\n",
              "          + ' to learn more about interactive tables.';\n",
              "        element.innerHTML = '';\n",
              "        dataTable['output_type'] = 'display_data';\n",
              "        await google.colab.output.renderOutput(dataTable, element);\n",
              "        const docLink = document.createElement('div');\n",
              "        docLink.innerHTML = docLinkHtml;\n",
              "        element.appendChild(docLink);\n",
              "      }\n",
              "    </script>\n",
              "  </div>\n",
              "\n",
              "\n",
              "    <div id=\"df-77b1b378-94bc-4e45-9814-43db27e5b4c7\">\n",
              "      <button class=\"colab-df-quickchart\" onclick=\"quickchart('df-77b1b378-94bc-4e45-9814-43db27e5b4c7')\"\n",
              "                title=\"Suggest charts\"\n",
              "                style=\"display:none;\">\n",
              "\n",
              "<svg xmlns=\"http://www.w3.org/2000/svg\" height=\"24px\"viewBox=\"0 0 24 24\"\n",
              "     width=\"24px\">\n",
              "    <g>\n",
              "        <path d=\"M19 3H5c-1.1 0-2 .9-2 2v14c0 1.1.9 2 2 2h14c1.1 0 2-.9 2-2V5c0-1.1-.9-2-2-2zM9 17H7v-7h2v7zm4 0h-2V7h2v10zm4 0h-2v-4h2v4z\"/>\n",
              "    </g>\n",
              "</svg>\n",
              "      </button>\n",
              "\n",
              "<style>\n",
              "  .colab-df-quickchart {\n",
              "      --bg-color: #E8F0FE;\n",
              "      --fill-color: #1967D2;\n",
              "      --hover-bg-color: #E2EBFA;\n",
              "      --hover-fill-color: #174EA6;\n",
              "      --disabled-fill-color: #AAA;\n",
              "      --disabled-bg-color: #DDD;\n",
              "  }\n",
              "\n",
              "  [theme=dark] .colab-df-quickchart {\n",
              "      --bg-color: #3B4455;\n",
              "      --fill-color: #D2E3FC;\n",
              "      --hover-bg-color: #434B5C;\n",
              "      --hover-fill-color: #FFFFFF;\n",
              "      --disabled-bg-color: #3B4455;\n",
              "      --disabled-fill-color: #666;\n",
              "  }\n",
              "\n",
              "  .colab-df-quickchart {\n",
              "    background-color: var(--bg-color);\n",
              "    border: none;\n",
              "    border-radius: 50%;\n",
              "    cursor: pointer;\n",
              "    display: none;\n",
              "    fill: var(--fill-color);\n",
              "    height: 32px;\n",
              "    padding: 0;\n",
              "    width: 32px;\n",
              "  }\n",
              "\n",
              "  .colab-df-quickchart:hover {\n",
              "    background-color: var(--hover-bg-color);\n",
              "    box-shadow: 0 1px 2px rgba(60, 64, 67, 0.3), 0 1px 3px 1px rgba(60, 64, 67, 0.15);\n",
              "    fill: var(--button-hover-fill-color);\n",
              "  }\n",
              "\n",
              "  .colab-df-quickchart-complete:disabled,\n",
              "  .colab-df-quickchart-complete:disabled:hover {\n",
              "    background-color: var(--disabled-bg-color);\n",
              "    fill: var(--disabled-fill-color);\n",
              "    box-shadow: none;\n",
              "  }\n",
              "\n",
              "  .colab-df-spinner {\n",
              "    border: 2px solid var(--fill-color);\n",
              "    border-color: transparent;\n",
              "    border-bottom-color: var(--fill-color);\n",
              "    animation:\n",
              "      spin 1s steps(1) infinite;\n",
              "  }\n",
              "\n",
              "  @keyframes spin {\n",
              "    0% {\n",
              "      border-color: transparent;\n",
              "      border-bottom-color: var(--fill-color);\n",
              "      border-left-color: var(--fill-color);\n",
              "    }\n",
              "    20% {\n",
              "      border-color: transparent;\n",
              "      border-left-color: var(--fill-color);\n",
              "      border-top-color: var(--fill-color);\n",
              "    }\n",
              "    30% {\n",
              "      border-color: transparent;\n",
              "      border-left-color: var(--fill-color);\n",
              "      border-top-color: var(--fill-color);\n",
              "      border-right-color: var(--fill-color);\n",
              "    }\n",
              "    40% {\n",
              "      border-color: transparent;\n",
              "      border-right-color: var(--fill-color);\n",
              "      border-top-color: var(--fill-color);\n",
              "    }\n",
              "    60% {\n",
              "      border-color: transparent;\n",
              "      border-right-color: var(--fill-color);\n",
              "    }\n",
              "    80% {\n",
              "      border-color: transparent;\n",
              "      border-right-color: var(--fill-color);\n",
              "      border-bottom-color: var(--fill-color);\n",
              "    }\n",
              "    90% {\n",
              "      border-color: transparent;\n",
              "      border-bottom-color: var(--fill-color);\n",
              "    }\n",
              "  }\n",
              "</style>\n",
              "\n",
              "      <script>\n",
              "        async function quickchart(key) {\n",
              "          const quickchartButtonEl =\n",
              "            document.querySelector('#' + key + ' button');\n",
              "          quickchartButtonEl.disabled = true;  // To prevent multiple clicks.\n",
              "          quickchartButtonEl.classList.add('colab-df-spinner');\n",
              "          try {\n",
              "            const charts = await google.colab.kernel.invokeFunction(\n",
              "                'suggestCharts', [key], {});\n",
              "          } catch (error) {\n",
              "            console.error('Error during call to suggestCharts:', error);\n",
              "          }\n",
              "          quickchartButtonEl.classList.remove('colab-df-spinner');\n",
              "          quickchartButtonEl.classList.add('colab-df-quickchart-complete');\n",
              "        }\n",
              "        (() => {\n",
              "          let quickchartButtonEl =\n",
              "            document.querySelector('#df-77b1b378-94bc-4e45-9814-43db27e5b4c7 button');\n",
              "          quickchartButtonEl.style.display =\n",
              "            google.colab.kernel.accessAllowed ? 'block' : 'none';\n",
              "        })();\n",
              "      </script>\n",
              "    </div>\n",
              "\n",
              "    </div>\n",
              "  </div>\n"
            ],
            "application/vnd.google.colaboratory.intrinsic+json": {
              "type": "dataframe",
              "summary": "{\n  \"name\": \"df\",\n  \"rows\": 8,\n  \"fields\": [\n    {\n      \"column\": \"Year\",\n      \"properties\": {\n        \"dtype\": \"number\",\n        \"std\": 1999255.4310043505,\n        \"min\": 13.878952811225048,\n        \"max\": 5656458.0,\n        \"num_unique_values\": 8,\n        \"samples\": [\n          1994.4641894273766,\n          1997.0,\n          5656458.0\n        ],\n        \"semantic_type\": \"\",\n        \"description\": \"\"\n      }\n    },\n    {\n      \"column\": \"Value\",\n      \"properties\": {\n        \"dtype\": \"number\",\n        \"std\": 5581516916286105.0,\n        \"min\": -9824821297572060.0,\n        \"max\": 1.1033666e+16,\n        \"num_unique_values\": 8,\n        \"samples\": [\n          1070500777137.2252,\n          63.5745,\n          5656458.0\n        ],\n        \"semantic_type\": \"\",\n        \"description\": \"\"\n      }\n    }\n  ]\n}"
            }
          },
          "metadata": {},
          "execution_count": 16
        }
      ]
    },
    {
      "cell_type": "markdown",
      "source": [
        "**THE COUNTRY AND ITS INDICATORS:**"
      ],
      "metadata": {
        "id": "LrXwUa3ED6_U"
      }
    },
    {
      "cell_type": "code",
      "source": [
        "print(df['CountryName'].nunique())\n",
        "print(df['IndicatorName'].nunique())\n"
      ],
      "metadata": {
        "colab": {
          "base_uri": "https://localhost:8080/"
        },
        "id": "WkmSg7hf9es8",
        "outputId": "5fc0727f-64e1-461c-b2fc-e4b31c0fd36e"
      },
      "execution_count": null,
      "outputs": [
        {
          "output_type": "stream",
          "name": "stdout",
          "text": [
            "247\n",
            "1344\n"
          ]
        }
      ]
    },
    {
      "cell_type": "markdown",
      "source": [
        " **COUNTRY CODE**"
      ],
      "metadata": {
        "id": "J9ArFrj_ElHk"
      }
    },
    {
      "cell_type": "code",
      "source": [
        "print(df[['CountryName', 'CountryCode']].head())\n",
        "\n",
        "# Get unique country codes\n",
        "codes = df[['CountryName', 'CountryCode']].drop_duplicates()\n",
        "print(codes.head(20))  # show first 20 countries"
      ],
      "metadata": {
        "colab": {
          "base_uri": "https://localhost:8080/"
        },
        "id": "ntUnd_McEQh-",
        "outputId": "70433601-dd04-4934-93e3-27305f9c3328"
      },
      "execution_count": null,
      "outputs": [
        {
          "output_type": "stream",
          "name": "stdout",
          "text": [
            "  CountryName CountryCode\n",
            "0  Arab World         ARB\n",
            "1  Arab World         ARB\n",
            "2  Arab World         ARB\n",
            "3  Arab World         ARB\n",
            "4  Arab World         ARB\n",
            "                                        CountryName CountryCode\n",
            "0                                        Arab World         ARB\n",
            "80                           Caribbean small states         CSS\n",
            "157                  Central Europe and the Baltics         CEB\n",
            "228         East Asia & Pacific (all income levels)         EAS\n",
            "350           East Asia & Pacific (developing only)         EAP\n",
            "473                                       Euro area         EMU\n",
            "592       Europe & Central Asia (all income levels)         ECS\n",
            "701         Europe & Central Asia (developing only)         ECA\n",
            "790                                  European Union         EUU\n",
            "906        Fragile and conflict affected situations         FCS\n",
            "982          Heavily indebted poor countries (HIPC)         HPC\n",
            "1081                                    High income         HIC\n",
            "1212                           High income: nonOECD         NOC\n",
            "1280                              High income: OECD         OEC\n",
            "1407  Latin America & Caribbean (all income levels)         LCN\n",
            "1537    Latin America & Caribbean (developing only)         LAC\n",
            "1670   Least developed countries: UN classification         LDC\n",
            "1748                            Low & middle income         LMY\n",
            "1886                                     Low income         LIC\n",
            "1966                            Lower middle income         LMC\n"
          ]
        }
      ]
    },
    {
      "cell_type": "markdown",
      "source": [
        "**YEAR**"
      ],
      "metadata": {
        "id": "VVBrVuP7Eqd9"
      }
    },
    {
      "cell_type": "code",
      "source": [
        "#CHECK FIRST FEW YEARS\n",
        "print(df['Year'].head())\n",
        "#UNIQUE YEARS AVAILABLE\n",
        "years = df['Year'].unique()\n",
        "print(years)\n",
        "#SORTED YEAR OF LIST\n",
        "years = sorted(df['Year'].unique())\n",
        "print(years)\n",
        "#RANGE OF YEARS\n",
        "print(\"From year:\", df['Year'].min())\n",
        "print(\"To year:\", df['Year'].max())\n"
      ],
      "metadata": {
        "colab": {
          "base_uri": "https://localhost:8080/"
        },
        "id": "d6nw4VMAEuAM",
        "outputId": "5bc35a62-6f99-4014-d069-aa93b86ed79b"
      },
      "execution_count": null,
      "outputs": [
        {
          "output_type": "stream",
          "name": "stdout",
          "text": [
            "0    1960\n",
            "1    1960\n",
            "2    1960\n",
            "3    1960\n",
            "4    1960\n",
            "Name: Year, dtype: int64\n",
            "[1960 1961 1962 1963 1964 1965 1966 1967 1968 1969 1970 1971 1972 1973\n",
            " 1974 1975 1976 1977 1978 1979 1980 1981 1982 1983 1984 1985 1986 1987\n",
            " 1988 1989 1990 1991 1992 1993 1994 1995 1996 1997 1998 1999 2000 2001\n",
            " 2002 2003 2004 2005 2006 2007 2008 2009 2010 2011 2012 2013 2014 2015]\n",
            "[np.int64(1960), np.int64(1961), np.int64(1962), np.int64(1963), np.int64(1964), np.int64(1965), np.int64(1966), np.int64(1967), np.int64(1968), np.int64(1969), np.int64(1970), np.int64(1971), np.int64(1972), np.int64(1973), np.int64(1974), np.int64(1975), np.int64(1976), np.int64(1977), np.int64(1978), np.int64(1979), np.int64(1980), np.int64(1981), np.int64(1982), np.int64(1983), np.int64(1984), np.int64(1985), np.int64(1986), np.int64(1987), np.int64(1988), np.int64(1989), np.int64(1990), np.int64(1991), np.int64(1992), np.int64(1993), np.int64(1994), np.int64(1995), np.int64(1996), np.int64(1997), np.int64(1998), np.int64(1999), np.int64(2000), np.int64(2001), np.int64(2002), np.int64(2003), np.int64(2004), np.int64(2005), np.int64(2006), np.int64(2007), np.int64(2008), np.int64(2009), np.int64(2010), np.int64(2011), np.int64(2012), np.int64(2013), np.int64(2014), np.int64(2015)]\n",
            "From year: 1960\n",
            "To year: 2015\n"
          ]
        }
      ]
    },
    {
      "cell_type": "markdown",
      "source": [
        "**INDIAS POPULATION TREND**"
      ],
      "metadata": {
        "id": "EFszHY52Fmn8"
      }
    },
    {
      "cell_type": "code",
      "source": [
        "india_pop = df[(df['CountryName'] == \"India\") &\n",
        "               (df['IndicatorName'] == \"Population, total\")]\n",
        "\n",
        "print(india_pop[['Year', 'Value']].head())\n",
        "\n",
        "# Plot\n",
        "import matplotlib.pyplot as plt\n",
        "\n",
        "plt.plot(india_pop['Year'], india_pop['Value'])\n",
        "plt.title(\"India Total Population Over Time\")\n",
        "plt.xlabel(\"Year\")\n",
        "plt.ylabel(\"Population\")\n",
        "plt.show()\n"
      ],
      "metadata": {
        "colab": {
          "base_uri": "https://localhost:8080/",
          "height": 576
        },
        "id": "mOldsi6vFjjF",
        "outputId": "f8a0b14d-e92f-4b31-e117-77e49f20e9db"
      },
      "execution_count": null,
      "outputs": [
        {
          "output_type": "stream",
          "name": "stdout",
          "text": [
            "        Year        Value\n",
            "11758   1960  449661874.0\n",
            "36711   1961  458691457.0\n",
            "64254   1962  468054145.0\n",
            "92704   1963  477729958.0\n",
            "121503  1964  487690114.0\n"
          ]
        },
        {
          "output_type": "display_data",
          "data": {
            "text/plain": [
              "<Figure size 640x480 with 1 Axes>"
            ],
            "image/png": "[encoded data removed]"
          },
          "metadata": {}
        }
      ]
    },
    {
      "cell_type": "markdown",
      "source": [
        "HERE ON Y AXIS 0.6 MEANS\n",
        "\n",
        " 0.6 × 10⁹ = 600,000,000 (600 million)\n",
        "\n",
        "1.0 means 1.0 × 10⁹ = 1,000,000,000 (1 billion)\n",
        "\n",
        "1.2 means 1.2 × 10⁹ = 1,200,000,000 (1.2 billion)"
      ],
      "metadata": {
        "id": "EvR0FBcHGFUN"
      }
    },
    {
      "cell_type": "markdown",
      "source": [
        "**INDIAS EDUCATION TREND**"
      ],
      "metadata": {
        "id": "hrv0JouiGcTs"
      }
    },
    {
      "cell_type": "code",
      "source": [
        "india_literacy = df[(df['CountryName'] == \"India\") &\n",
        "                    (df['IndicatorName'] == \"Adult literacy rate (% of people ages 15 and above)\")]\n",
        "\n",
        "print(india_literacy[['Year', 'Value']].head())  # check values\n",
        "\n",
        "import matplotlib.pyplot as plt\n",
        "plt.plot(india_literacy['Year'], india_literacy['Value'], marker='o')\n",
        "plt.title(\"India Literacy Rate Over Time\")\n",
        "plt.xlabel(\"Year\")\n",
        "plt.ylabel(\"Literacy Rate (%)\")\n",
        "plt.show()\n",
        "\n",
        "# Check for literacy related indicator names\n",
        "literacy_indicators = df[df['IndicatorName'].str.contains('literacy', case=False)]['IndicatorName'].unique()\n",
        "print(\"\\nAvailable literacy indicators:\")\n",
        "for indicator in literacy_indicators:\n",
        "    print(indicator)"
      ],
      "metadata": {
        "colab": {
          "base_uri": "https://localhost:8080/",
          "height": 524
        },
        "id": "mdRGm7fEGhG1",
        "outputId": "cb2e6a75-48e3-4a92-9748-7854bf58d355"
      },
      "execution_count": null,
      "outputs": [
        {
          "output_type": "stream",
          "name": "stdout",
          "text": [
            "Empty DataFrame\n",
            "Columns: [Year, Value]\n",
            "Index: []\n"
          ]
        },
        {
          "output_type": "display_data",
          "data": {
            "text/plain": [
              "<Figure size 640x480 with 1 Axes>"
            ],
            "image/png": "[encoded data removed]"
          },
          "metadata": {}
        }
      ]
    },
    {
      "cell_type": "markdown",
      "source": [
        "HERE THE PLOT IS NOT AVAILABLE BECAUSE IN THE DATASET THERE IS NO DATA RELATED TO THE EDUCATION OF ADULT AND BELOW THE AGE OF 18"
      ],
      "metadata": {
        "id": "ZERjIqdmHU0d"
      }
    }
  ]
}